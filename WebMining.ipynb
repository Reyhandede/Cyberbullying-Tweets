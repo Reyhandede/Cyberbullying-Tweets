{
  "cells": [
    {
      "cell_type": "code",
      "execution_count": 23,
      "metadata": {
        "id": "fkZa_U98Y8Ub"
      },
      "outputs": [],
      "source": [
        "#Imports the libraries.\n",
        "import numpy as np\n",
        "import pandas as pd\n",
        "import matplotlib.pyplot as plt\n",
        "import seaborn as sns\n",
        "from sklearn.preprocessing import LabelEncoder\n",
        "#from sklearn.model_selection import cross_validate,GridSearchCV\n",
        "from sklearn.feature_extraction.text import CountVectorizer,TfidfVectorizer\n",
        "\n",
        "from sklearn.neighbors import KNeighborsClassifier\n",
        "from sklearn.naive_bayes import GaussianNB\n",
        "from sklearn.naive_bayes import MultinomialNB\n",
        "from sklearn.tree import DecisionTreeClassifier\n",
        "from sklearn.svm import SVC\n",
        "\n",
        "from sklearn.metrics import accuracy_score,recall_score,f1_score\n",
        "from sklearn.model_selection import train_test_split\n",
        "\n",
        "import tkinter as tk\n",
        "from tkinter import filedialog\n",
        "from tkinter import ttk\n",
        "import customtkinter\n",
        "from tkinter.ttk import Combobox\n",
        "\n"
      ]
    },
    {
      "cell_type": "code",
      "execution_count": 24,
      "metadata": {},
      "outputs": [
        {
          "name": "stdout",
          "output_type": "stream",
          "text": [
            "TF-IDF\n",
            "Machine Model Select\n",
            "TF-IDF\n",
            "SVM\n"
          ]
        }
      ],
      "source": [
        "\n",
        "window=tk.Tk()\n",
        "window.title(\"C T C\")\n",
        "window.geometry(\"800x600\")\n",
        "#customtkinter.set_appearance_mode(\"Dark\")\n",
        "window.configure(bg='#141316')\n",
        "\n",
        "frame_1 = customtkinter.CTkFrame(master=window,\n",
        "                               width=700,\n",
        "                               height=500,\n",
        "                               corner_radius=10,fg_color=(\"#1d1d20\"))\n",
        "frame_1.place(relx=0.5, rely=0.5, anchor=tk.CENTER)\n",
        "\n",
        "def select_file():\n",
        "\n",
        "    global df\n",
        "    path_file = tk.filedialog.askopenfilename()\n",
        "    df = pd.read_csv(path_file)\n",
        "    return df\n",
        "\n",
        "label=tk.Label(master=window,text=\"Cyberbullying Tweets Classification\",fg=\"white\",bg=\"#1d1d20\",font=\"Times 22 bold\")\n",
        "\n",
        "label.pack()\n",
        "label.place(x=165,y=100)\n",
        "\n",
        "#b1=tk.Button(text=\"Select File\",font=\"Arial 14 bold\",bg=\"black\",fg=\"white\",command=select_file)\n",
        "b1=customtkinter.CTkButton(master=frame_1, text=\"Select File\", command=select_file,fg_color=(\"dodgerblue\", \"darkslateblue\"),text_color=\"white\",width=120,height=50,border_width=3,corner_radius=9)\n",
        "b1.place(relx=0.17, rely=0.7, anchor=tk.CENTER)\n",
        "\n",
        "variable_1 = tk.StringVar()\n",
        "variable_1.set(\"Features Model Select\")\n",
        "values_1 = [\"TF-IDF\", \"Bag of Words\"]\n",
        "combobox_1 = Combobox(\n",
        "    master=frame_1,\n",
        "    textvariable=variable_1,\n",
        "    values=values_1,\n",
        "    font=\"Times 15 bold\"\n",
        ")\n",
        "combobox_1.pack()\n",
        "combobox_1.place(x=65,y=140)\n",
        "\n",
        "variable_2 = tk.StringVar()\n",
        "variable_2.set(\"Machine Model Select\")\n",
        "values_2 = [\"KNeighborsClassifier\",\"GaussianNB\",\"MultinomialNB\",\"DecisionTreeClassifier\",\"SVM\"]\n",
        "combobox_2 = Combobox(\n",
        "    master=frame_1,\n",
        "    textvariable=variable_2,\n",
        "    values=values_2,\n",
        "    font=\"Times 15 bold\"\n",
        "    \n",
        ")\n",
        "combobox_2.pack()\n",
        "combobox_2.place(x=65,y=220)\n",
        "\n",
        "def change():\n",
        "    \n",
        "    global vFeatures\n",
        "    global vMachines\n",
        "    vFeatures=combobox_1.get()\n",
        "    print(vFeatures)\n",
        "    vMachines= combobox_2.get()\n",
        "    print(vMachines)\n",
        "    return vFeatures,vMachines\n",
        "\n",
        "#b2=tk.Button(text=\"Run\",font=\"Arial 14 bold\",bg=\"black\",fg=\"white\",command=change)\n",
        "\n",
        "b2=customtkinter.CTkButton(master=frame_1, text=\"Start\", command=change,fg_color=(\"Red\", \"darkslateblue\"),text_color=\"white\",width=120,height=50,border_width=3,corner_radius=9)\n",
        "b2.place(relx=0.4, rely=0.7, anchor=tk.CENTER)\n",
        "\n",
        "combobox_1.bind(\"<<ComboboxSelected>>\", lambda event: change())\n",
        "\n",
        "window.mainloop()\n"
      ]
    },
    {
      "cell_type": "code",
      "execution_count": 25,
      "metadata": {
        "colab": {
          "base_uri": "https://localhost:8080/"
        },
        "id": "YKSk5rxTM_T6",
        "outputId": "85c4678b-76c6-4f4b-e537-24588684eb15"
      },
      "outputs": [
        {
          "name": "stdout",
          "output_type": "stream",
          "text": [
            "##################### Shape #####################\n",
            "(47692, 2)\n",
            "##################### Types #####################\n",
            "tweet_text            object\n",
            "cyberbullying_type    object\n",
            "dtype: object\n",
            "##################### Head #####################\n",
            "                                          tweet_text cyberbullying_type\n",
            "0  In other words #katandandre, your food was cra...  not_cyberbullying\n",
            "1  Why is #aussietv so white? #MKR #theblock #ImA...  not_cyberbullying\n",
            "2  @XochitlSuckkks a classy whore? Or more red ve...  not_cyberbullying\n",
            "3  @Jason_Gio meh. :P  thanks for the heads up, b...  not_cyberbullying\n",
            "4  @RudhoeEnglish This is an ISIS account pretend...  not_cyberbullying\n",
            "##################### Tail #####################\n",
            "                                              tweet_text cyberbullying_type\n",
            "47687  Black ppl aren't expected to do anything, depe...          ethnicity\n",
            "47688  Turner did not withhold his disappointment. Tu...          ethnicity\n",
            "47689  I swear to God. This dumb nigger bitch. I have...          ethnicity\n",
            "47690  Yea fuck you RT @therealexel: IF YOURE A NIGGE...          ethnicity\n",
            "47691  Bro. U gotta chill RT @CHILLShrammy: Dog FUCK ...          ethnicity\n",
            "##################### NA #####################\n",
            "tweet_text            0\n",
            "cyberbullying_type    0\n",
            "dtype: int64\n"
          ]
        }
      ],
      "source": [
        "def check_df(dataframe, head=5):\n",
        "    print(\"##################### Shape #####################\")\n",
        "    print(dataframe.shape)\n",
        "    print(\"##################### Types #####################\")\n",
        "    print(dataframe.dtypes)\n",
        "    print(\"##################### Head #####################\")\n",
        "    print(dataframe.head(head))\n",
        "    print(\"##################### Tail #####################\")\n",
        "    print(dataframe.tail(head))\n",
        "    print(\"##################### NA #####################\")\n",
        "    print(dataframe.isnull().sum())\n",
        "\n",
        "check_df(df)"
      ]
    },
    {
      "cell_type": "code",
      "execution_count": 26,
      "metadata": {
        "colab": {
          "base_uri": "https://localhost:8080/"
        },
        "id": "i_ynfapQOlsh",
        "outputId": "f04d943a-ba55-45c2-aebe-0621a85fd94f"
      },
      "outputs": [
        {
          "data": {
            "text/plain": [
              "religion               7998\n",
              "age                    7992\n",
              "gender                 7973\n",
              "ethnicity              7961\n",
              "not_cyberbullying      7945\n",
              "other_cyberbullying    7823\n",
              "Name: cyberbullying_type, dtype: int64"
            ]
          },
          "execution_count": 26,
          "metadata": {},
          "output_type": "execute_result"
        }
      ],
      "source": [
        "df['cyberbullying_type'].value_counts()"
      ]
    },
    {
      "cell_type": "code",
      "execution_count": 27,
      "metadata": {
        "colab": {
          "base_uri": "https://localhost:8080/",
          "height": 390
        },
        "id": "wdicHIiCR5Sq",
        "outputId": "ea4fee3f-2dbb-4fe6-a2c2-c99e25daa5c5"
      },
      "outputs": [
        {
          "data": {
            "image/png": "[encoded data removed]",
            "text/plain": [
              "<Figure size 1008x432 with 1 Axes>"
            ]
          },
          "metadata": {
            "needs_background": "light"
          },
          "output_type": "display_data"
        }
      ],
      "source": [
        "import pandas as pd\n",
        "import seaborn as sns\n",
        "import matplotlib.pyplot as plt\n",
        "\n",
        "colors_palet = ['#78C850',  # Grass\n",
        "                    '#F08030',  # Fire\n",
        "                    '#6890F0',  # Water\n",
        "                    '#A8B820',  # Bug\n",
        "                    '#A8A878',  # Normal\n",
        "                    '#A040A0',  # Poison\n",
        "                    '#F8D030',  # Electric\n",
        "                    '#E0C068',  # Ground\n",
        "                    '#EE99AC',  # Fairy\n",
        "                    '#C03028',  # Fighting\n",
        "                    '#F85888',  # Psychic\n",
        "                    '#B8A038',  # Rock\n",
        "                    '#705898',  # Ghost\n",
        "                    '#98D8D8',  # Ice\n",
        "                    '#7038F8',  # Dragon\n",
        "]\n",
        "                   \n",
        "plt.figure(figsize=(14,6))\n",
        "sns.countplot(x='cyberbullying_type', data=df, palette=colors_palet)\n",
        "plt.show()"
      ]
    },
    {
      "cell_type": "code",
      "execution_count": 28,
      "metadata": {
        "colab": {
          "base_uri": "https://localhost:8080/",
          "height": 424
        },
        "id": "w8ZnTOBNYAln",
        "outputId": "53ac980f-1e66-4a5f-922d-04c2d7ec1164"
      },
      "outputs": [
        {
          "data": {
            "text/html": [
              "<div>\n",
              "<style scoped>\n",
              "    .dataframe tbody tr th:only-of-type {\n",
              "        vertical-align: middle;\n",
              "    }\n",
              "\n",
              "    .dataframe tbody tr th {\n",
              "        vertical-align: top;\n",
              "    }\n",
              "\n",
              "    .dataframe thead th {\n",
              "        text-align: right;\n",
              "    }\n",
              "</style>\n",
              "<table border=\"1\" class=\"dataframe\">\n",
              "  <thead>\n",
              "    <tr style=\"text-align: right;\">\n",
              "      <th></th>\n",
              "      <th>tweet_text</th>\n",
              "      <th>cyberbullying_type</th>\n",
              "    </tr>\n",
              "  </thead>\n",
              "  <tbody>\n",
              "    <tr>\n",
              "      <th>0</th>\n",
              "      <td>In other words #katandandre, your food was cra...</td>\n",
              "      <td>3</td>\n",
              "    </tr>\n",
              "    <tr>\n",
              "      <th>1</th>\n",
              "      <td>Why is #aussietv so white? #MKR #theblock #ImA...</td>\n",
              "      <td>3</td>\n",
              "    </tr>\n",
              "    <tr>\n",
              "      <th>2</th>\n",
              "      <td>@XochitlSuckkks a classy whore? Or more red ve...</td>\n",
              "      <td>3</td>\n",
              "    </tr>\n",
              "    <tr>\n",
              "      <th>3</th>\n",
              "      <td>@Jason_Gio meh. :P  thanks for the heads up, b...</td>\n",
              "      <td>3</td>\n",
              "    </tr>\n",
              "    <tr>\n",
              "      <th>4</th>\n",
              "      <td>@RudhoeEnglish This is an ISIS account pretend...</td>\n",
              "      <td>3</td>\n",
              "    </tr>\n",
              "    <tr>\n",
              "      <th>...</th>\n",
              "      <td>...</td>\n",
              "      <td>...</td>\n",
              "    </tr>\n",
              "    <tr>\n",
              "      <th>47687</th>\n",
              "      <td>Black ppl aren't expected to do anything, depe...</td>\n",
              "      <td>1</td>\n",
              "    </tr>\n",
              "    <tr>\n",
              "      <th>47688</th>\n",
              "      <td>Turner did not withhold his disappointment. Tu...</td>\n",
              "      <td>1</td>\n",
              "    </tr>\n",
              "    <tr>\n",
              "      <th>47689</th>\n",
              "      <td>I swear to God. This dumb nigger bitch. I have...</td>\n",
              "      <td>1</td>\n",
              "    </tr>\n",
              "    <tr>\n",
              "      <th>47690</th>\n",
              "      <td>Yea fuck you RT @therealexel: IF YOURE A NIGGE...</td>\n",
              "      <td>1</td>\n",
              "    </tr>\n",
              "    <tr>\n",
              "      <th>47691</th>\n",
              "      <td>Bro. U gotta chill RT @CHILLShrammy: Dog FUCK ...</td>\n",
              "      <td>1</td>\n",
              "    </tr>\n",
              "  </tbody>\n",
              "</table>\n",
              "<p>47692 rows × 2 columns</p>\n",
              "</div>"
            ],
            "text/plain": [
              "                                              tweet_text  cyberbullying_type\n",
              "0      In other words #katandandre, your food was cra...                   3\n",
              "1      Why is #aussietv so white? #MKR #theblock #ImA...                   3\n",
              "2      @XochitlSuckkks a classy whore? Or more red ve...                   3\n",
              "3      @Jason_Gio meh. :P  thanks for the heads up, b...                   3\n",
              "4      @RudhoeEnglish This is an ISIS account pretend...                   3\n",
              "...                                                  ...                 ...\n",
              "47687  Black ppl aren't expected to do anything, depe...                   1\n",
              "47688  Turner did not withhold his disappointment. Tu...                   1\n",
              "47689  I swear to God. This dumb nigger bitch. I have...                   1\n",
              "47690  Yea fuck you RT @therealexel: IF YOURE A NIGGE...                   1\n",
              "47691  Bro. U gotta chill RT @CHILLShrammy: Dog FUCK ...                   1\n",
              "\n",
              "[47692 rows x 2 columns]"
            ]
          },
          "execution_count": 28,
          "metadata": {},
          "output_type": "execute_result"
        }
      ],
      "source": [
        "def label_encoder(dataframe, binary_col):\n",
        "    \n",
        "    labelencoder = LabelEncoder()\n",
        "    dataframe[binary_col] = labelencoder.fit_transform(dataframe[binary_col])\n",
        "    return dataframe\n",
        "\n",
        "df=label_encoder(df,\"cyberbullying_type\")\n",
        "df"
      ]
    },
    {
      "cell_type": "code",
      "execution_count": 29,
      "metadata": {
        "colab": {
          "base_uri": "https://localhost:8080/"
        },
        "id": "PNfuZCGsg_O2",
        "outputId": "fa34ee8c-d3bc-44ab-a250-a3b03ea1d227"
      },
      "outputs": [
        {
          "name": "stderr",
          "output_type": "stream",
          "text": [
            "[nltk_data] Downloading package stopwords to\n",
            "[nltk_data]     C:\\Users\\reyhan\\AppData\\Roaming\\nltk_data...\n",
            "[nltk_data]   Package stopwords is already up-to-date!\n"
          ]
        }
      ],
      "source": [
        "import nltk\n",
        "nltk.download('stopwords')\n",
        "from nltk.corpus import stopwords\n",
        "\n",
        "stop_words = stopwords.words('english')\n",
        "df['tweet_text'] = df['tweet_text'].apply(lambda x: ' '.join([word for word in x.lower().split() if word not in (stop_words)]))"
      ]
    },
    {
      "cell_type": "code",
      "execution_count": 30,
      "metadata": {
        "id": "pA7Q3-V_kme7"
      },
      "outputs": [
        {
          "name": "stdout",
          "output_type": "stream",
          "text": [
            "TF-IDF\n"
          ]
        }
      ],
      "source": [
        "def features_model(vFeatures):\n",
        "    \n",
        "    print(vFeatures)\n",
        "    if vFeatures == \"TF-IDF\":\n",
        "        tfidf_v=TfidfVectorizer(max_features=5000,ngram_range=(1,3))\n",
        "        X=tfidf_v.fit_transform(df['tweet_text']).toarray()\n",
        "        y=df['cyberbullying_type']\n",
        "        \n",
        "    else:\n",
        "        cv = CountVectorizer(max_features = 1500,ngram_range=(1,3))\n",
        "        X = cv.fit_transform(df['tweet_text']).toarray()#df['tweet_text']\n",
        "        y = df.iloc[:, -1].values\n",
        "    return X,y\n",
        "    \n",
        "X,y=features_model(vFeatures)"
      ]
    },
    {
      "cell_type": "code",
      "execution_count": 31,
      "metadata": {
        "id": "MOyZ7HZ8ezic"
      },
      "outputs": [],
      "source": [
        "X_train, X_test, y_train, y_test = train_test_split(X, y, test_size = 0.20, random_state = 0)"
      ]
    },
    {
      "cell_type": "code",
      "execution_count": 32,
      "metadata": {
        "colab": {
          "base_uri": "https://localhost:8080/"
        },
        "id": "Jm9pCYfTe8W3",
        "outputId": "9e1c6eb0-7db0-4f8a-df08-5fb78c811fc0"
      },
      "outputs": [
        {
          "name": "stdout",
          "output_type": "stream",
          "text": [
            "SVM\n",
            "[0.838138169619457, 0.836177696669449, 0.8378405071275044]\n"
          ]
        },
        {
          "name": "stderr",
          "output_type": "stream",
          "text": [
            "c:\\Users\\reyhan\\AppData\\Local\\Programs\\Python\\Python39\\lib\\site-packages\\seaborn\\_decorators.py:36: FutureWarning: Pass the following variables as keyword args: x, y. From version 0.12, the only valid positional argument will be `data`, and passing other arguments without an explicit keyword will result in an error or misinterpretation.\n",
            "  warnings.warn(\n"
          ]
        },
        {
          "data": {
            "image/png": "[encoded data removed]",
            "text/plain": [
              "<Figure size 1008x432 with 1 Axes>"
            ]
          },
          "metadata": {
            "needs_background": "light"
          },
          "output_type": "display_data"
        }
      ],
      "source": [
        "def score(classifier):\n",
        "\n",
        "    classifier.fit(X_train, y_train)\n",
        "    y1_pred = classifier.predict(X_test)\n",
        "    accuracy= accuracy_score(y_test, y1_pred)\n",
        "    recall=recall_score(y_test, y1_pred,average='macro')\n",
        "    f1=f1_score(y_test, y1_pred,average='macro')\n",
        "\n",
        "    x=[\"accuracy_score\",\"recall_score\",\"f1_score\"]\n",
        "    y=[accuracy,recall,f1]\n",
        "    print(y)\n",
        "\n",
        "    plt.figure(figsize=(14,6))\n",
        "    sns.barplot(x,y).set_title(classifier)\n",
        "    plt.show()\n",
        "\n",
        "def Machine_Model(vMachines):\n",
        "\n",
        "    print(vMachines)\n",
        "    if vMachines==\"KNeighborsClassifier\":\n",
        "        classifier = KNeighborsClassifier()\n",
        "        score(classifier)\n",
        "    elif vMachines==\"GaussianNB\":\n",
        "        classifier = GaussianNB()\n",
        "        score(classifier)\n",
        "    elif vMachines==\"MultinomialNB\":\n",
        "        classifier = GaussianNB()\n",
        "        score(classifier)\n",
        "    elif vMachines==\"DecisionTreeClassifier\":\n",
        "        classifier =DecisionTreeClassifier()\n",
        "        score(classifier)\n",
        "        \n",
        "    else:\n",
        "        classifier =SVC()\n",
        "        score(classifier)\n",
        "        \n",
        "Machine_Model(vMachines)"
      ]
    },
    {
      "cell_type": "code",
      "execution_count": 33,
      "metadata": {},
      "outputs": [],
      "source": [
        "#KNeighborsClassifier\n",
        "#[0.3626166264807632, 0.3672663148425633, 0.38216346964095976]\n",
        "#[0.7019603732047385, 0.7012603063598157, 0.7215999474888507]\n",
        "\n",
        "#GaussianNB\n",
        "#[0.7070971799979033, 0.7070580824799498, 0.705897583708528]\n",
        "#[0.7386518502987734, 0.7387514298867365, 0.7275235090592211]\n",
        "\n",
        "#MultinomialNB\n",
        "#[0.7070971799979033, 0.7070580824799498, 0.705897583708528]\n",
        "#[0.7386518502987734, 0.7387514298867365, 0.7275235090592211]\n",
        "\n",
        "#DecisionTreeClassifier\n",
        "#[0.7944228954817066, 0.7909117510408267, 0.7930703080081313]\n",
        "#[0.7927455708145508, 0.7891992700845226, 0.7913842496814243]\n",
        "\n",
        "#SVM\n",
        "#[0.838138169619457, 0.836177696669449, 0.8378405071275044]\n",
        "#[0.8405493238284936, 0.8393590200472546, 0.8385352939266003]\n",
        "\n",
        "\n",
        "\n",
        "\n",
        "\n",
        "\n"
      ]
    }
  ],
  "metadata": {
    "colab": {
      "provenance": []
    },
    "kernelspec": {
      "display_name": "Python 3",
      "language": "python",
      "name": "python3"
    },
    "language_info": {
      "codemirror_mode": {
        "name": "ipython",
        "version": 3
      },
      "file_extension": ".py",
      "mimetype": "text/x-python",
      "name": "python",
      "nbconvert_exporter": "python",
      "pygments_lexer": "ipython3",
      "version": "3.9.4"
    },
    "vscode": {
      "interpreter": {
        "hash": "385b5f45282e4f6ecc490dbd3f10eb042c4d33bc029a0711b2e5c647c6fc302f"
      }
    }
  },
  "nbformat": 4,
  "nbformat_minor": 0
}
